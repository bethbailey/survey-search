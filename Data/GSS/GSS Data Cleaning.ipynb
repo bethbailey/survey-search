{
 "cells": [
  {
   "cell_type": "markdown",
   "metadata": {},
   "source": [
    "# Part 1: Extract variable descriptions"
   ]
  },
  {
   "cell_type": "code",
   "execution_count": 2,
   "metadata": {
    "collapsed": true
   },
   "outputs": [],
   "source": [
    "# Code Ownership: Original (for this page)\n",
    "import pandas as pd\n",
    "import PyPDF2 as Pypdf\n",
    "import re"
   ]
  },
  {
   "cell_type": "code",
   "execution_count": 3,
   "metadata": {
    "collapsed": true
   },
   "outputs": [],
   "source": [
    "# Used in def getPDFContent(path, first_page, last_page):\n",
    "    '''\n",
    "    Given a pdf path and first and last page, return the content as a list of lines in the pdf.\n",
    "    Inputs:\n",
    "        - pdf path (string)\n",
    "        - first page, last page (ints)\n",
    "    Output:\n",
    "        - content (list of string lineslines)\n",
    "    '''\n",
    "    content = []\n",
    "    pdf = Pypdf.PdfFileReader(path)\n",
    "    for i in range(first_page, last_page):\n",
    "        content += pdf.getPage(i).extractText().splitlines()\n",
    "    return content"
   ]
  },
  {
   "cell_type": "code",
   "execution_count": 4,
   "metadata": {},
   "outputs": [
    {
     "data": {
      "text/plain": [
       "['Page 1Index',\n",
       " 'INDEX TO DATA SET (by Data Order)MnemonicMnemonic description',\n",
       " 'YEARGSS YEAR FOR THIS RESPONDENT                       ',\n",
       " 'IDRESPONDENT ID NUMBER                                ',\n",
       " '',\n",
       " 'WRKSTATLABOR FORCE STATUS',\n",
       " '',\n",
       " 'HRS1NUMBER OF HOURS WORKED LAST WEEK',\n",
       " '',\n",
       " 'HRS2NUMBER OF HOURS USUALLY WORK A WEEK']"
      ]
     },
     "execution_count": 4,
     "metadata": {},
     "output_type": "execute_result"
    }
   ],
   "source": [
    "text = getPDFContent('GSS_Codebook_index.pdf', 0, 116)\n",
    "text[:10]"
   ]
  },
  {
   "cell_type": "code",
   "execution_count": 5,
   "metadata": {
    "collapsed": true
   },
   "outputs": [],
   "source": [
    "df1 = pd.read_csv(\"GSS2012.csv\")\n",
    "df2 = pd.read_csv(\"GSS2014.csv\")\n",
    "df3 = pd.read_csv(\"GSS2016.csv\")"
   ]
  },
  {
   "cell_type": "code",
   "execution_count": 6,
   "metadata": {
    "collapsed": true
   },
   "outputs": [],
   "source": [
    "def get_matches(df, text_list):\n",
    "    '''\n",
    "    Given dataframe and text list, gets the matches of variable name \n",
    "    and text for the variables that are in the data.\n",
    "    Inputs:\n",
    "        - df: dataframe of csv data\n",
    "        - text_list: content (list of string lineslines)\n",
    "    '''\n",
    "    question_tuples = set()\n",
    "    for col in df.columns:\n",
    "        for text in text_list:\n",
    "            if text[0:len(col)] == col:\n",
    "                atuple = (text[0:len(col)], text[len(col):])\n",
    "                question_tuples.add(atuple)\n",
    "    return question_tuples"
   ]
  },
  {
   "cell_type": "code",
   "execution_count": 7,
   "metadata": {
    "collapsed": true
   },
   "outputs": [],
   "source": [
    "gss2012 = get_matches(df1, text)\n",
    "gss2014 = get_matches(df2, text)\n",
    "gss2016 = get_matches(df3, text)"
   ]
  },
  {
   "cell_type": "code",
   "execution_count": 8,
   "metadata": {},
   "outputs": [
    {
     "data": {
      "text/html": [
       "<div>\n",
       "<style>\n",
       "    .dataframe thead tr:only-child th {\n",
       "        text-align: right;\n",
       "    }\n",
       "\n",
       "    .dataframe thead th {\n",
       "        text-align: left;\n",
       "    }\n",
       "\n",
       "    .dataframe tbody tr th {\n",
       "        vertical-align: top;\n",
       "    }\n",
       "</style>\n",
       "<table border=\"1\" class=\"dataframe\">\n",
       "  <thead>\n",
       "    <tr style=\"text-align: right;\">\n",
       "      <th></th>\n",
       "      <th>Survey_Number</th>\n",
       "      <th>Var_Name</th>\n",
       "      <th>Var_Text</th>\n",
       "    </tr>\n",
       "  </thead>\n",
       "  <tbody>\n",
       "    <tr>\n",
       "      <th>0</th>\n",
       "      <td>5</td>\n",
       "      <td>AGE</td>\n",
       "      <td>4AGE OF PERSON #4</td>\n",
       "    </tr>\n",
       "    <tr>\n",
       "      <th>1</th>\n",
       "      <td>5</td>\n",
       "      <td>FAIR</td>\n",
       "      <td>5PEOPLE FAIR OR NOT</td>\n",
       "    </tr>\n",
       "    <tr>\n",
       "      <th>2</th>\n",
       "      <td>5</td>\n",
       "      <td>FEJOBAFF</td>\n",
       "      <td>FOR OR AGAINST PREFERENTIAL HIRING OF WOMEN</td>\n",
       "    </tr>\n",
       "    <tr>\n",
       "      <th>3</th>\n",
       "      <td>5</td>\n",
       "      <td>HAPPY7</td>\n",
       "      <td>HOW HAPPY R IS</td>\n",
       "    </tr>\n",
       "    <tr>\n",
       "      <th>4</th>\n",
       "      <td>5</td>\n",
       "      <td>AGE</td>\n",
       "      <td>2AGE OF PERSON #2</td>\n",
       "    </tr>\n",
       "  </tbody>\n",
       "</table>\n",
       "</div>"
      ],
      "text/plain": [
       "   Survey_Number  Var_Name                                           Var_Text\n",
       "0              5       AGE                                  4AGE OF PERSON #4\n",
       "1              5      FAIR                                5PEOPLE FAIR OR NOT\n",
       "2              5  FEJOBAFF  FOR OR AGAINST PREFERENTIAL HIRING OF WOMEN      \n",
       "3              5    HAPPY7                                     HOW HAPPY R IS\n",
       "4              5       AGE                                  2AGE OF PERSON #2"
      ]
     },
     "execution_count": 8,
     "metadata": {},
     "output_type": "execute_result"
    }
   ],
   "source": [
    "# Create the dataframe for all three surveys, incrementing the survey count by 1 each time.\n",
    "cleaned_data = pd.DataFrame()\n",
    "survey_list = [(gss2012, \"General Social Survey 2012\"), (gss2014, \"General Social Survey 2014\"), \\\n",
    "               (gss2016, \"General Social Survey 2016\")]\n",
    "survey_num = 4\n",
    "for survey in survey_list:\n",
    "    survey_num += 1\n",
    "    for tup in survey[0]:\n",
    "        var_name = tup[0]\n",
    "        question = tup[1]\n",
    "        cleaned_data = cleaned_data.append([[survey_num, var_name, \\\n",
    "                                             question]], ignore_index=True)\n",
    "cleaned_data.columns = [\"Survey_Number\", \"Var_Name\", \"Var_Text\"]\n",
    "cleaned_data.head()"
   ]
  },
  {
   "cell_type": "code",
   "execution_count": 9,
   "metadata": {
    "collapsed": true
   },
   "outputs": [],
   "source": [
    "def make_csv(survey_num, year):\n",
    "    '''\n",
    "    Given a survey number, make a csv of var_name and var_text for just that survey number.\n",
    "    Used in OLS Animal notebook as well.\n",
    "    Inputs:\n",
    "        - survey_num (int)\n",
    "    Output:\n",
    "        - None, creates a csv\n",
    "    '''\n",
    "    df = cleaned_data[cleaned_data[\"Survey_Number\"] == survey_num]\n",
    "    df = df.iloc[:, 1:3]\n",
    "    name = \"GSS_cleaned_\" + str(year) + \".csv\" \n",
    "    df.to_csv(path_or_buf=name, index=False)"
   ]
  },
  {
   "cell_type": "code",
   "execution_count": 10,
   "metadata": {},
   "outputs": [],
   "source": [
    "make_csv(5, 2012)\n",
    "make_csv(6, 2014)\n",
    "make_csv(7, 2016)"
   ]
  },
  {
   "cell_type": "code",
   "execution_count": 12,
   "metadata": {
    "collapsed": true
   },
   "outputs": [],
   "source": [
    "# Create a csv of all the data for reference.\n",
    "cleaned_data.to_csv(path_or_buf=\"GSS_cleaned.csv\", index=False)"
   ]
  },
  {
   "cell_type": "markdown",
   "metadata": {},
   "source": [
    "# Part 2: Create Survey Detail Description"
   ]
  },
  {
   "cell_type": "code",
   "execution_count": 13,
   "metadata": {
    "collapsed": true
   },
   "outputs": [],
   "source": [
    "# Create a function to create a dictionary from a list of variables. This is used in other notebooks\n",
    "# to create the detail csv.\n",
    "def create_d_list(survey_num, survey_name, num_part, org_conduct, num_questions, data_link, \n",
    "             doc_link, source_link, summary):\n",
    "    '''\n",
    "    Given information for a dictionary with list values, make the detail dictionary.\n",
    "    Inputs:\n",
    "        - survey_num: A number for the survey (list of ints)\n",
    "        - survey_name: Name of survey (list of strings)\n",
    "        - num_part: Number of participants in the survey (list of ints)\n",
    "        - org_conduct: Name of organization (list of strings)\n",
    "        - num_questions: Number of questions in the survey (list of ints)\n",
    "        - data_link: Link to data (list of strings)\n",
    "        - doc_link: Link to documentation (list of strings)\n",
    "        - source_link: Link to source (list of strings)\n",
    "        - summary: Summary of survey (list of strings)\n",
    "    Output:\n",
    "        - python dictionary that stores the values.\n",
    "    '''\n",
    "    d = {\"Survey_Number\": survey_num,\n",
    "         \"Survey_Name\": survey_name, \n",
    "         \"Num_Participants\": num_part,\n",
    "         \"Org_Conduct\": org_conduct, \n",
    "         \"Num_Questions\": num_questions,\n",
    "         \"Data_Link\": data_link,\n",
    "         \"Documentation_Link\": doc_link,\n",
    "         \"Source_Link\": source_link,\n",
    "         \"Summary\": summary}\n",
    "    return d"
   ]
  },
  {
   "cell_type": "code",
   "execution_count": 14,
   "metadata": {
    "collapsed": true
   },
   "outputs": [],
   "source": [
    "# Create a function to create a csv given a dictionaries. This is used in other notebooks\n",
    "# to create the detail csv.\n",
    "def create_detail_csv(d, name):\n",
    "    '''\n",
    "    Given a dictionary (created above) and a survey name, create an unindexed csv \n",
    "    with those details.\n",
    "    Inputs:\n",
    "        - d: a python dictionary\n",
    "        - name: name of the survey (string)\n",
    "    Output:\n",
    "        - None, but creates a csv.\n",
    "    '''\n",
    "    detail = pd.DataFrame(data=d, columns = [\"Survey_Number\", \"Survey_Name\", \"Num_Participants\",\n",
    "                            \"Org_Conduct\", \"Num_Questions\", \"Data_Link\", \"Documentation_Link\",\n",
    "                            \"Source_Link\", \"Summary\"])\n",
    "    detail.to_csv(path_or_buf=name + \"_detail.csv\", index=False)"
   ]
  },
  {
   "cell_type": "code",
   "execution_count": 16,
   "metadata": {},
   "outputs": [],
   "source": [
    "survey_num = cleaned_data[\"Survey_Number\"].unique()\n",
    "survey_name = [\"General Social Survey 2012\", \"General Social Survey 2014\", \\\n",
    "            \"General Social Survey 2016\"]\n",
    "num_part = [1500, 1500, 1500]\n",
    "org_conduct = [\"NORC\", \"NORC\", \"NORC\"]\n",
    "num_questions = [len(cleaned_data[cleaned_data[\"Survey_Number\"] == 5]), \n",
    "                 len(cleaned_data[cleaned_data[\"Survey_Number\"] == 6]),\n",
    "                 len(cleaned_data[cleaned_data[\"Survey_Number\"] == 7])]\n",
    "data_link = [\"http://bit.ly/2I1BhXu\", \"http://bit.ly/2I1BhXu\", \"http://bit.ly/2I1BhXu\"]\n",
    "doc_link = [\"http://bit.ly/2F4F1cG\", \"http://bit.ly/2F4F1cG\", \"http://bit.ly/2F4F1cG\"]\n",
    "source_link = [\"http://gss.norc.org\", \"http://gss.norc.org\", \"http://gss.norc.org\"]\n",
    "summary = [\"The GSS gathers data on contemporary American society in order to monitor and explain \\\n",
    "    trends and constants in attitudes, behaviors, and attributes. The GSS contains a standard core \\\n",
    "    of demographic, behavioral, and attitudinal questions, plus topics of special interest. Among \\\n",
    "    the topics covered are civil liberties, crime and violence, intergroup tolerance, morality, \\\n",
    "    national spending priorities, psychological well-being, social mobility, and stress and traumatic \\\n",
    "    events. Altogether the GSS is the single best source for sociological and attitudinal trend data \\\n",
    "    covering the United States. It allows researchers to examine the structure and functioning of \\\n",
    "    society in general as well as the role played by relevant subgroups and to compare the United \\\n",
    "    States to other nations.\"] * 3"
   ]
  },
  {
   "cell_type": "code",
   "execution_count": 18,
   "metadata": {},
   "outputs": [],
   "source": [
    "d = create_d_list(survey_num, survey_name, num_part, org_conduct, num_questions, data_link, \n",
    "             doc_link, source_link, summary)"
   ]
  },
  {
   "cell_type": "code",
   "execution_count": 19,
   "metadata": {
    "collapsed": true
   },
   "outputs": [],
   "source": [
    "create_detail_csv(d, \"GSS\")"
   ]
  }
 ],
 "metadata": {
  "kernelspec": {
   "display_name": "Python 3",
   "language": "python",
   "name": "python3"
  },
  "language_info": {
   "codemirror_mode": {
    "name": "ipython",
    "version": 3
   },
   "file_extension": ".py",
   "mimetype": "text/x-python",
   "name": "python",
   "nbconvert_exporter": "python",
   "pygments_lexer": "ipython3",
   "version": "3.6.3"
  }
 },
 "nbformat": 4,
 "nbformat_minor": 2
}
