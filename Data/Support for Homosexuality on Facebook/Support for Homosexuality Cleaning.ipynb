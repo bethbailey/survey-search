{
 "cells": [
  {
   "cell_type": "markdown",
   "metadata": {},
   "source": [
    "## Part 1: Extract variable descriptions"
   ]
  },
  {
   "cell_type": "code",
   "execution_count": 1,
   "metadata": {
    "collapsed": true
   },
   "outputs": [],
   "source": [
    "# Code Ownership: Original (for this page)\n",
    "import pandas as pd"
   ]
  },
  {
   "cell_type": "code",
   "execution_count": 2,
   "metadata": {
    "collapsed": true
   },
   "outputs": [],
   "source": [
    "data = pd.read_csv(\"Support_for_homosexuality_facebook_data.csv\", header=None)"
   ]
  },
  {
   "cell_type": "code",
   "execution_count": 3,
   "metadata": {
    "collapsed": true
   },
   "outputs": [],
   "source": [
    "# Convert the rows into columns\n",
    "data0 = data.loc[0]\n",
    "data0 = pd.DataFrame(data0[23:])\n",
    "data1 = data.loc[1]\n",
    "data1 = data1[23:]"
   ]
  },
  {
   "cell_type": "code",
   "execution_count": 4,
   "metadata": {
    "collapsed": true
   },
   "outputs": [],
   "source": [
    "# Join the two data columns and name them\n",
    "cleaned_data = data0.join(data1)\n",
    "cleaned_data.columns = [\"Var_Name\", \"Var_Text\"]"
   ]
  },
  {
   "cell_type": "code",
   "execution_count": 5,
   "metadata": {
    "collapsed": true
   },
   "outputs": [],
   "source": [
    "cleaned_data.to_csv(path_or_buf=\"Support_for_homosexuality_cleaned.csv\", index=False)"
   ]
  },
  {
   "cell_type": "markdown",
   "metadata": {},
   "source": [
    "## Part 2: Create Survey Detail Description"
   ]
  },
  {
   "cell_type": "code",
   "execution_count": 6,
   "metadata": {
    "collapsed": true
   },
   "outputs": [],
   "source": [
    "# Create a function to create a dictionary from a list of variables. This is used in other \n",
    "# notebooks to create the detail csv.\n",
    "def create_d(survey_num, survey_name, num_part, org_conduct, num_questions, data_link, \n",
    "             doc_link, source_link, summary):\n",
    "    '''\n",
    "    Given information for a dictionary, make the detail dictionary.\n",
    "    Inputs:\n",
    "        - survey_num: A number for the survey (int)\n",
    "        - survey_name: Name of survey (string)\n",
    "        - num_part: Number of participants in the survey (int)\n",
    "        - org_conduct: Name of organization (string)\n",
    "        - num_questions: Number of questions in the survey (int)\n",
    "        - data_link: Link to data (string)\n",
    "        - doc_link: Link to documentation (string)\n",
    "        - source_link: Link to source (string)\n",
    "        - summary: Summary of survey (string)\n",
    "    Output:\n",
    "        - python dictionary that stores the values.\n",
    "    '''\n",
    "    d = {\"Survey_Number\": [survey_num],\n",
    "         \"Survey_Name\": [survey_name], \n",
    "         \"Num_Participants\": [num_part],\n",
    "         \"Org_Conduct\": [org_conduct], \n",
    "         \"Num_Questions\": [num_questions],\n",
    "         \"Data_Link\": [data_link],\n",
    "         \"Documentation_Link\": [doc_link],\n",
    "         \"Source_Link\": [source_link],\n",
    "         \"Summary\": [summary]}\n",
    "    return d"
   ]
  },
  {
   "cell_type": "code",
   "execution_count": 7,
   "metadata": {
    "collapsed": true
   },
   "outputs": [],
   "source": [
    "# Create a function to create a csv given a dictionaries. This is used in other notebooks\n",
    "# to create the detail csv.\n",
    "def create_detail_csv(d, name):\n",
    "    '''\n",
    "    Given a dictionary (created above) and a survey name, create an unindexed csv \n",
    "    with those details.\n",
    "    Inputs:\n",
    "        - d: a python dictionary\n",
    "        - name: name of the survey (string)\n",
    "    Output:\n",
    "        - None, but creates a csv.\n",
    "    '''\n",
    "    detail = pd.DataFrame(data=d, columns = [\"Survey_Number\", \"Survey_Name\", \"Num_Participants\",\n",
    "                            \"Org_Conduct\", \"Num_Questions\", \"Data_Link\", \"Documentation_Link\",\n",
    "                            \"Source_Link\", \"Summary\"])\n",
    "    detail.to_csv(path_or_buf=name + \"_detail.csv\", index=False)"
   ]
  },
  {
   "cell_type": "code",
   "execution_count": 8,
   "metadata": {
    "collapsed": true
   },
   "outputs": [],
   "source": [
    "survey_num = 8\n",
    "survey_name = \"Support for Homosexuality on Facebook in Singapore\"\n",
    "num_part = len(data) - 3\n",
    "org_conduct = \"Students: Abdullah Zaidani Bin Alim, Michelle Tan, Leoson Hoay\"\n",
    "num_questions = len(cleaned_data)\n",
    "data_link = \"http://bit.ly/2HerrQE\"\n",
    "doc_link = \"http://bit.ly/2oZAbCD\"\n",
    "source_link = \"NA\"\n",
    "summary = \"A 2015 survey on attitudes towards homosexuality on Facebook, conducted as part of \\\n",
    "    an undergraduate honors class research project in the National University of Singapore.\""
   ]
  },
  {
   "cell_type": "code",
   "execution_count": 9,
   "metadata": {
    "collapsed": true
   },
   "outputs": [],
   "source": [
    "d = create_d(survey_num, survey_name, num_part, org_conduct, num_questions, data_link, \n",
    "             doc_link, source_link, summary)"
   ]
  },
  {
   "cell_type": "code",
   "execution_count": 10,
   "metadata": {
    "collapsed": true
   },
   "outputs": [],
   "source": [
    "create_detail_csv(d, \"SupportforHomosexuality\")"
   ]
  }
 ],
 "metadata": {
  "kernelspec": {
   "display_name": "Python 3",
   "language": "python",
   "name": "python3"
  },
  "language_info": {
   "codemirror_mode": {
    "name": "ipython",
    "version": 3
   },
   "file_extension": ".py",
   "mimetype": "text/x-python",
   "name": "python",
   "nbconvert_exporter": "python",
   "pygments_lexer": "ipython3",
   "version": "3.6.3"
  }
 },
 "nbformat": 4,
 "nbformat_minor": 2
}
