{
 "cells": [
  {
   "cell_type": "code",
   "execution_count": null,
   "metadata": {
    "collapsed": true
   },
   "outputs": [],
   "source": [
    "# Code Ownership: Original (for this page)\n",
    "import pandas as pd\n",
    "import docx2txt\n",
    "import re"
   ]
  },
  {
   "cell_type": "code",
   "execution_count": null,
   "metadata": {
    "collapsed": true
   },
   "outputs": [],
   "source": [
    "text = docx2txt.process('2016 CCS - Leadership Survey - Final Questionnaire.docx')"
   ]
  },
  {
   "cell_type": "code",
   "execution_count": 3,
   "metadata": {
    "collapsed": true
   },
   "outputs": [],
   "source": [
    "text = text.splitlines()"
   ]
  },
  {
   "cell_type": "code",
   "execution_count": 4,
   "metadata": {
    "collapsed": true
   },
   "outputs": [],
   "source": [
    "def is_valid(txt):\n",
    "    '''\n",
    "    Given text, find if it contains an invalid match (one that would prevent\n",
    "    the for loop from continuing).\n",
    "    Input:\n",
    "        - txt: a string of text\n",
    "    Output:\n",
    "        - True or False boolean, depending on whether the text is valid or not.\n",
    "    '''\n",
    "    pattern1_invalid = re.compile('(N*Q[0-9]+_*[A-Za-z]*)(.*)')\n",
    "    pattern2_invalid = re.compile('(NA-[0-9]+)(.)')\n",
    "    pattern3_invalid = re.compile('Display This Question:')\n",
    "    pattern4_invalid = re.compile('Multilateral')\n",
    "    if pattern1_invalid.match(txt):\n",
    "        return False\n",
    "    elif pattern2_invalid.match(txt):\n",
    "        return False\n",
    "    elif pattern3_invalid.match(txt):\n",
    "        return False\n",
    "    elif pattern4_invalid.match(txt):\n",
    "        return False\n",
    "    else:\n",
    "        return True"
   ]
  },
  {
   "cell_type": "code",
   "execution_count": 5,
   "metadata": {
    "collapsed": true
   },
   "outputs": [],
   "source": [
    "def find_questions(text):\n",
    "    '''\n",
    "    Given a text string, find the tuples of var_name and var_text in that text.\n",
    "    Input:\n",
    "        - text: a string of text\n",
    "    Output:\n",
    "        - question_tuples: a list of tuples of var_name, var_text pairs\n",
    "    '''\n",
    "    question_tuples = []\n",
    "    # Go through each item in the text list and find if it fits a pattern.\n",
    "    for i in range(len(text)):\n",
    "        pattern1 = re.findall('(N*Q[0-9]+_*[A-Za-z]*)(.*)', text[i])\n",
    "        pattern2 = re.findall('(NA-[0-9]+)(.*)', text[i])\n",
    "        # If it fits the pattern, find all the subparts and add them to the \n",
    "        # question until you reach a breaking point.\n",
    "        if pattern1:\n",
    "            question = pattern1[0][1]\n",
    "            for j in range(1,1000):\n",
    "                # While you still have items to process.\n",
    "                if i+j < len(text):\n",
    "                    # Check if the string is a valid subpart.\n",
    "                    if is_valid(text[i+j]):\n",
    "                        # Check the string is not empty.\n",
    "                        if text[i+j]:\n",
    "                            # Add the subpart to the question.\n",
    "                            question += text[i+j]\n",
    "                    # If you reach an invalid subpart, break.\n",
    "                    else:\n",
    "                        break\n",
    "                # If you are at the end of the list, break.\n",
    "                else:\n",
    "                    break\n",
    "            # Append the pattern1 compiled strings to the list.\n",
    "            num = pattern1[0][0]\n",
    "            pattern_cleaned = (num, question)\n",
    "            question_tuples.append(pattern_cleaned)\n",
    "        # Append the pattern2 compiled strings to the list. Upon manually \n",
    "        # inspecting the text, these patterns do not have subparts.\n",
    "        if pattern2:\n",
    "            num = pattern2[0][0]\n",
    "            question = pattern2[0][1]\n",
    "            pattern_cleaned = (num, question)\n",
    "            question_tuples.append(pattern_cleaned)\n",
    "    return question_tuples"
   ]
  },
  {
   "cell_type": "code",
   "execution_count": 6,
   "metadata": {
    "collapsed": true
   },
   "outputs": [],
   "source": [
    "question_tuples = find_questions(text)"
   ]
  },
  {
   "cell_type": "code",
   "execution_count": 7,
   "metadata": {
    "collapsed": true
   },
   "outputs": [],
   "source": [
    "question_tuples = question_tuples[0:-1]"
   ]
  },
  {
   "cell_type": "code",
   "execution_count": 9,
   "metadata": {
    "collapsed": true
   },
   "outputs": [],
   "source": [
    "def to_csv(tuple_list, name):\n",
    "    '''\n",
    "    Given a name and tuple_list, convert the data to a csv of cleaned data.\n",
    "    Also used in Pew notebook.\n",
    "    Inputs:\n",
    "        - tuple_list: a list of (var_name, var_text) tuples\n",
    "        - name: the survey name\n",
    "    Output:\n",
    "        - None, creates csv.\n",
    "    '''\n",
    "    cleaned_data = pd.DataFrame()\n",
    "    for tup in question_tuples:\n",
    "        var_name = tup[0]\n",
    "        question = tup[1]\n",
    "        cleaned_data = cleaned_data.append([[var_name, question]], ignore_index=True)\n",
    "    cleaned_data.columns = [\"Var_Name\", \"Var_Text\"]\n",
    "    cleaned_data.to_csv(path_or_buf=name + \".csv\", index=False)"
   ]
  },
  {
   "cell_type": "code",
   "execution_count": 10,
   "metadata": {
    "collapsed": true
   },
   "outputs": [],
   "source": [
    "to_csv(question_tuples, \"2016CCSLeadershipSurvey\")"
   ]
  },
  {
   "cell_type": "markdown",
   "metadata": {
    "collapsed": true
   },
   "source": [
    "## Part 2: Create the Detail CSV"
   ]
  },
  {
   "cell_type": "code",
   "execution_count": 16,
   "metadata": {
    "collapsed": true
   },
   "outputs": [],
   "source": [
    "def create_d(survey_num, survey_name, num_part, org_conduct, num_questions, data_link, \n",
    "             doc_link, source_link, summary):\n",
    "    d = {\"Survey_Number\": [survey_num],\n",
    "         \"Survey_Name\": [survey_name], \n",
    "         \"Num_Participants\": [num_part],\n",
    "         \"Org_Conduct\": [org_conduct], \n",
    "         \"Num_Questions\": [num_questions],\n",
    "         \"Data_Link\": [data_link],\n",
    "         \"Documentation_Link\": [doc_link],\n",
    "         \"Source_Link\": [source_link],\n",
    "         \"Summary\": [summary]}\n",
    "    return d"
   ]
  },
  {
   "cell_type": "code",
   "execution_count": 17,
   "metadata": {
    "collapsed": true
   },
   "outputs": [],
   "source": [
    "def create_detail_csv(d, name):\n",
    "    detail = pd.DataFrame(data=d, columns = [\"Survey_Number\", \"Survey_Name\", \"Num_Participants\",\n",
    "                            \"Org_Conduct\", \"Num_Questions\", \"Data_Link\", \"Documentation_Link\",\n",
    "                            \"Source_Link\", \"Summary\"])\n",
    "    detail.to_csv(path_or_buf=name + \"_detail.csv\", index=False)"
   ]
  },
  {
   "cell_type": "code",
   "execution_count": 18,
   "metadata": {
    "collapsed": true
   },
   "outputs": [],
   "source": [
    "survey_num = 9\n",
    "survey_name = \"2015/2016 Chicago Council Leadership Survey\"\n",
    "num_part = 422\n",
    "org_conduct = \"The Chicago Council on Global Affairs\"\n",
    "num_questions = len(question_tuples)\n",
    "data_link = \"http://bit.ly/2HerrQE\"\n",
    "doc_link = \"http://bit.ly/2oZAbCD\"\n",
    "source_link = \"NA\"\n",
    "summary = \"A 2015 survey on attitudes towards homosexuality on Facebook, conducted as part \\\n",
    "    of an undergraduate honors class research project in the National University of Singapore.\""
   ]
  },
  {
   "cell_type": "code",
   "execution_count": 19,
   "metadata": {
    "collapsed": true
   },
   "outputs": [],
   "source": [
    "d = create_d(survey_num, survey_name, num_part, org_conduct, num_questions, data_link, \n",
    "             doc_link, source_link, summary)"
   ]
  },
  {
   "cell_type": "code",
   "execution_count": 20,
   "metadata": {
    "collapsed": true
   },
   "outputs": [],
   "source": [
    "create_detail_csv(d, \"2016CCS\")"
   ]
  }
 ],
 "metadata": {
  "kernelspec": {
   "display_name": "Python 3",
   "language": "python",
   "name": "python3"
  },
  "language_info": {
   "codemirror_mode": {
    "name": "ipython",
    "version": 3
   },
   "file_extension": ".py",
   "mimetype": "text/x-python",
   "name": "python",
   "nbconvert_exporter": "python",
   "pygments_lexer": "ipython3",
   "version": "3.6.3"
  }
 },
 "nbformat": 4,
 "nbformat_minor": 2
}
