{
 "cells": [
  {
   "cell_type": "markdown",
   "metadata": {},
   "source": [
    "## Part 1: Extract the variable descriptions"
   ]
  },
  {
   "cell_type": "code",
   "execution_count": 2,
   "metadata": {
    "collapsed": true
   },
   "outputs": [],
   "source": [
    "# Code Ownership: Original (for this page)\n",
    "import pandas as pd\n",
    "import re"
   ]
  },
  {
   "cell_type": "code",
   "execution_count": 3,
   "metadata": {
    "collapsed": true
   },
   "outputs": [],
   "source": [
    "with open(\"ols_animal_research_survey_data_2016_ukda_data_dictionary.rtf\") as file:  \n",
    "    data = file.read()"
   ]
  },
  {
   "cell_type": "code",
   "execution_count": 4,
   "metadata": {},
   "outputs": [
    {
     "data": {
      "text/plain": [
       "[('Variable label = }{\\\\cf4 ', 'Respondent serial'),\n",
       " ('Variable label = }{\\\\cf4 ',\n",
       "  'How well informed do you feel about the use of animals in scientific research in the UK?'),\n",
       " ('Variable label = }{\\\\cf4 ',\n",
       "  'Interested in finding out more about the ongoing work to find alternatives to using animals in research?'),\n",
       " ('Variable label = }{\\\\cf4 ',\n",
       "  'Interested in finding out more about the ongoing work to improve the welfare of animals in scientific research?'),\n",
       " ('Variable label = }{\\\\cf4 ',\n",
       "  'I can accept the use if animals in research as long as it is for medical research purposes and there is no alternative')]"
      ]
     },
     "execution_count": 4,
     "metadata": {},
     "output_type": "execute_result"
    }
   ],
   "source": [
    "# Find the variable text (second part of tuple)\n",
    "question_tuples = re.findall('(Variable\\slabel\\s=\\s\\}\\{\\\\\\\\cf4\\s)([\\d\\w\\s\\?\\.\\:\\,]*)', data)\n",
    "question_tuples[:5]"
   ]
  },
  {
   "cell_type": "code",
   "execution_count": 8,
   "metadata": {},
   "outputs": [
    {
     "data": {
      "text/plain": [
       "[('Variable = }{\\\\f2\\\\fs20\\\\cf4 ', 'ID'),\n",
       " ('Variable = }{\\\\f2\\\\fs20\\\\cf4 ', 'Q1'),\n",
       " ('Variable = }{\\\\f2\\\\fs20\\\\cf4 ', 'Q2a'),\n",
       " ('Variable = }{\\\\f2\\\\fs20\\\\cf4 ', 'Q2b'),\n",
       " ('Variable = }{\\\\f2\\\\fs20\\\\cf4 ', 'Q3a')]"
      ]
     },
     "execution_count": 8,
     "metadata": {},
     "output_type": "execute_result"
    }
   ],
   "source": [
    "# Find the variable names (second part of tuple)\n",
    "var_name_tuples = re.findall('(Variable\\s=\\s\\}\\{\\\\\\\\f2\\\\\\\\fs20\\\\\\\\cf4\\s)([\\d\\w]*)', data)\n",
    "var_name_tuples[:5]"
   ]
  },
  {
   "cell_type": "code",
   "execution_count": null,
   "metadata": {
    "collapsed": true
   },
   "outputs": [],
   "source": [
    "# Create the dataframe (we can do this because\n",
    "# I checked that both lists were in the same order)\n",
    "cleaned_data = pd.DataFrame()\n",
    "for tuple in enumerate(question_tuples):\n",
    "    survey_num = 1\n",
    "    var_name = var_name_tuples[tuple[0]][1]\n",
    "    question = tuple[1][1]\n",
    "    cleaned_data = cleaned_data.append([[survey_num, var_name, question]], ignore_index=True)\n",
    "cleaned_data.columns = [\"Survey_Number\", \"Var_Name\", \"Var_Text\"]\n",
    "cleaned_data.head()"
   ]
  },
  {
   "cell_type": "code",
   "execution_count": null,
   "metadata": {},
   "outputs": [],
   "source": [
    "# Split data into three for better comparison (since this is the first data \n",
    "# we are cleaning. Find length of data.\n",
    "len(cleaned_data)/3"
   ]
  },
  {
   "cell_type": "code",
   "execution_count": null,
   "metadata": {
    "collapsed": true
   },
   "outputs": [],
   "source": [
    "# Change the survey numbers of the two \"new\" surveys.\n",
    "cleaned_data.loc[82:165, \"Survey_Number\"] += 1\n",
    "cleaned_data.loc[165:248, \"Survey_Number\"] += 2"
   ]
  },
  {
   "cell_type": "code",
   "execution_count": null,
   "metadata": {
    "collapsed": true
   },
   "outputs": [],
   "source": [
    "def make_csv(survey_num):\n",
    "    '''\n",
    "    Given a survey number, make a csv of var_name and var_text for just that survey number.\n",
    "    Used in GSS notebook as well.\n",
    "    Inputs:\n",
    "        - survey_num (int)\n",
    "    Output:\n",
    "        - None, creates a csv\n",
    "    '''\n",
    "    df = cleaned_data[cleaned_data[\"Survey_Number\"] == survey_num]\n",
    "    df = df.iloc[:, 1:3]\n",
    "    name = \"OLSAnimal_\" + str(survey_num) + \".csv\"\n",
    "    df.to_csv(path_or_buf=name, index=False)"
   ]
  },
  {
   "cell_type": "code",
   "execution_count": null,
   "metadata": {
    "collapsed": true
   },
   "outputs": [],
   "source": [
    "make_csv(1)\n",
    "make_csv(2)\n",
    "make_csv(3)"
   ]
  },
  {
   "cell_type": "code",
   "execution_count": null,
   "metadata": {
    "collapsed": true
   },
   "outputs": [],
   "source": [
    "cleaned_data.to_csv(path_or_buf=\"OLSAnimal_cleaned_joined.csv\", index=False)"
   ]
  },
  {
   "cell_type": "markdown",
   "metadata": {
    "collapsed": true
   },
   "source": [
    "## Part 2: Create the survey CSV"
   ]
  },
  {
   "cell_type": "code",
   "execution_count": 9,
   "metadata": {
    "collapsed": true
   },
   "outputs": [],
   "source": [
    "# Create a function to create a dictionary from a list of variables. \n",
    "# This is used in other notebooks to create the detail csv.\n",
    "def create_d_list(survey_num, survey_name, num_part, org_conduct, num_questions, data_link, \n",
    "             doc_link, source_link, summary):\n",
    "    '''\n",
    "    Given information for a dictionary with list values, make the detail dictionary.\n",
    "    Inputs:\n",
    "        - survey_num: A number for the survey (list of ints)\n",
    "        - survey_name: Name of survey (list of strings)\n",
    "        - num_part: Number of participants in the survey (list of ints)\n",
    "        - org_conduct: Name of organization (list of strings)\n",
    "        - num_questions: Number of questions in the survey (list of ints)\n",
    "        - data_link: Link to data (list of strings)\n",
    "        - doc_link: Link to documentation (list of strings)\n",
    "        - source_link: Link to source (list of strings)\n",
    "        - summary: Summary of survey (list of strings)\n",
    "    Output:\n",
    "        - python dictionary that stores the values.\n",
    "    '''\n",
    "    d = {\"Survey_Number\": survey_num,\n",
    "         \"Survey_Name\": survey_name, \n",
    "         \"Num_Participants\": num_part,\n",
    "         \"Org_Conduct\": org_conduct, \n",
    "         \"Num_Questions\": num_questions,\n",
    "         \"Data_Link\": data_link,\n",
    "         \"Documentation_Link\": doc_link,\n",
    "         \"Source_Link\": source_link,\n",
    "         \"Summary\": summary}\n",
    "    return d"
   ]
  },
  {
   "cell_type": "code",
   "execution_count": 10,
   "metadata": {
    "collapsed": true
   },
   "outputs": [],
   "source": [
    "# Create a function to create a csv given a dictionaries. This is used in other \n",
    "# notebooks to create the detail csv.\n",
    "def create_detail_csv(d, name):\n",
    "    '''\n",
    "    Given a dictionary (created above) and a survey name, create an unindexed csv \n",
    "    with those details.\n",
    "    Inputs:\n",
    "        - d: a python dictionary\n",
    "        - name: name of the survey (string)\n",
    "    Output:\n",
    "        - None, but creates a csv.\n",
    "    '''\n",
    "    detail = pd.DataFrame(data=d, columns = [\"Survey_Number\", \"Survey_Name\", \"Num_Participants\",\n",
    "                            \"Org_Conduct\", \"Num_Questions\", \"Data_Link\", \"Documentation_Link\",\n",
    "                            \"Source_Link\", \"Summary\"])\n",
    "    detail.to_csv(path_or_buf=name + \"_detail.csv\", index=False)"
   ]
  },
  {
   "cell_type": "code",
   "execution_count": 11,
   "metadata": {
    "collapsed": true
   },
   "outputs": [],
   "source": [
    "survey_num = [1, 2, 3] \n",
    "survey_name = [\"Public Attitudes towards Animal Research 2016-1\", \\\n",
    "               \"Public Attitudes towards Animal Research 2016-2\", \\\n",
    "               \"Public Attitudes towards Animal Research 2016-3\"]\n",
    "num_part = [987, 987, 987]\n",
    "org_conduct = [\"IPSOS\", \"IPSOS\", \"IPSOS\"]\n",
    "num_questions = [82, 83, 83]\n",
    "data_link = [\"http://bit.ly/2F7fNuv\", \"http://bit.ly/2F7fNuv\", \\\n",
    "             \"http://bit.ly/2F7fNuv\"]\n",
    "doc_link = [\"http://bit.ly/2CUZWsE\", \"http://bit.ly/2CUZWsE\", \\\n",
    "            \"http://bit.ly/2CUZWsE\"]\n",
    "source_link = [\"http://bit.ly/2CsBSlr\", \"http://bit.ly/2CsBSlr\", \\\n",
    "               \"http://bit.ly/2CsBSlr\"]\n",
    "summary = [\"Part 1 of findings of a 2016 survey on current public awareness and attitudes\\\n",
    "           towards the use of animals in research. The survey also examines attitudes towards,\\\n",
    "           and trust in, the regulatory system and the people who work with animals in research.\",\\\n",
    "    \"Part 2 of findings of a 2016 survey on current public awareness and attitudes towards\\\n",
    "    the use of animals in research. The survey also examines attitudes towards, and trust in,\\\n",
    "    the regulatory system and the people who work with animals in research.\",\\\n",
    "    \"Part 3 of findings of a ,2016 survey on current public awareness and attitudes towards\\\n",
    "    the use of animals in research. The survey also examines attitudes towards, and trust in,\\\n",
    "    the regulatory system and the people who work with animals in research.\"]"
   ]
  },
  {
   "cell_type": "code",
   "execution_count": 12,
   "metadata": {
    "collapsed": true
   },
   "outputs": [],
   "source": [
    "d = create_d_list(survey_num, survey_name, num_part, org_conduct, num_questions, data_link, \n",
    "             doc_link, source_link, summary)"
   ]
  },
  {
   "cell_type": "code",
   "execution_count": 13,
   "metadata": {
    "collapsed": true
   },
   "outputs": [],
   "source": [
    "create_detail_csv(d, \"OLSAnimal\")"
   ]
  }
 ],
 "metadata": {
  "kernelspec": {
   "display_name": "Python 3",
   "language": "python",
   "name": "python3"
  },
  "language_info": {
   "codemirror_mode": {
    "name": "ipython",
    "version": 3
   },
   "file_extension": ".py",
   "mimetype": "text/x-python",
   "name": "python",
   "nbconvert_exporter": "python",
   "pygments_lexer": "ipython3",
   "version": "3.6.3"
  }
 },
 "nbformat": 4,
 "nbformat_minor": 2
}
