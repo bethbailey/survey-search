{
 "cells": [
  {
   "cell_type": "code",
   "execution_count": 1,
   "metadata": {
    "collapsed": true
   },
   "outputs": [],
   "source": [
    "# Code Ownership: Original (for this page)\n",
    "import pandas as pd\n",
    "import numpy as np\n",
    "import re\n",
    "import docx\n",
    "from docx import Document"
   ]
  },
  {
   "cell_type": "markdown",
   "metadata": {},
   "source": [
    "## Part 1: Extract variable descriptions"
   ]
  },
  {
   "cell_type": "code",
   "execution_count": 2,
   "metadata": {},
   "outputs": [
    {
     "data": {
      "text/html": [
       "<div>\n",
       "<style>\n",
       "    .dataframe thead tr:only-child th {\n",
       "        text-align: right;\n",
       "    }\n",
       "\n",
       "    .dataframe thead th {\n",
       "        text-align: left;\n",
       "    }\n",
       "\n",
       "    .dataframe tbody tr th {\n",
       "        vertical-align: top;\n",
       "    }\n",
       "</style>\n",
       "<table border=\"1\" class=\"dataframe\">\n",
       "  <thead>\n",
       "    <tr style=\"text-align: right;\">\n",
       "      <th></th>\n",
       "      <th>caseid</th>\n",
       "      <th>weight</th>\n",
       "      <th>sample</th>\n",
       "      <th>int_date</th>\n",
       "      <th>lang</th>\n",
       "      <th>cregion</th>\n",
       "      <th>state</th>\n",
       "      <th>usr</th>\n",
       "      <th>density</th>\n",
       "      <th>form</th>\n",
       "      <th>...</th>\n",
       "      <th>party</th>\n",
       "      <th>partyln</th>\n",
       "      <th>ideo</th>\n",
       "      <th>hh1</th>\n",
       "      <th>hh3</th>\n",
       "      <th>eminuse</th>\n",
       "      <th>intmob</th>\n",
       "      <th>ql1</th>\n",
       "      <th>ql1a</th>\n",
       "      <th>qc1</th>\n",
       "    </tr>\n",
       "  </thead>\n",
       "  <tbody>\n",
       "    <tr>\n",
       "      <th>0</th>\n",
       "      <td>100003</td>\n",
       "      <td>3.285714</td>\n",
       "      <td>1</td>\n",
       "      <td>81514</td>\n",
       "      <td>1</td>\n",
       "      <td>3</td>\n",
       "      <td>37</td>\n",
       "      <td>U</td>\n",
       "      <td>3</td>\n",
       "      <td>2</td>\n",
       "      <td>...</td>\n",
       "      <td>3</td>\n",
       "      <td>1</td>\n",
       "      <td>2</td>\n",
       "      <td>9</td>\n",
       "      <td>9</td>\n",
       "      <td>1</td>\n",
       "      <td>1</td>\n",
       "      <td>1</td>\n",
       "      <td></td>\n",
       "      <td></td>\n",
       "    </tr>\n",
       "    <tr>\n",
       "      <th>1</th>\n",
       "      <td>100004</td>\n",
       "      <td>3.214286</td>\n",
       "      <td>1</td>\n",
       "      <td>81814</td>\n",
       "      <td>1</td>\n",
       "      <td>3</td>\n",
       "      <td>51</td>\n",
       "      <td>U</td>\n",
       "      <td>5</td>\n",
       "      <td>1</td>\n",
       "      <td>...</td>\n",
       "      <td>2</td>\n",
       "      <td></td>\n",
       "      <td>5</td>\n",
       "      <td>5</td>\n",
       "      <td>2</td>\n",
       "      <td>1</td>\n",
       "      <td>1</td>\n",
       "      <td>1</td>\n",
       "      <td></td>\n",
       "      <td></td>\n",
       "    </tr>\n",
       "    <tr>\n",
       "      <th>2</th>\n",
       "      <td>100014</td>\n",
       "      <td>1.857143</td>\n",
       "      <td>1</td>\n",
       "      <td>81514</td>\n",
       "      <td>1</td>\n",
       "      <td>1</td>\n",
       "      <td>36</td>\n",
       "      <td>U</td>\n",
       "      <td>5</td>\n",
       "      <td>1</td>\n",
       "      <td>...</td>\n",
       "      <td>1</td>\n",
       "      <td></td>\n",
       "      <td>2</td>\n",
       "      <td>1</td>\n",
       "      <td></td>\n",
       "      <td>1</td>\n",
       "      <td>2</td>\n",
       "      <td>1</td>\n",
       "      <td></td>\n",
       "      <td></td>\n",
       "    </tr>\n",
       "    <tr>\n",
       "      <th>3</th>\n",
       "      <td>100020</td>\n",
       "      <td>3.500000</td>\n",
       "      <td>1</td>\n",
       "      <td>81914</td>\n",
       "      <td>1</td>\n",
       "      <td>1</td>\n",
       "      <td>9</td>\n",
       "      <td>S</td>\n",
       "      <td>4</td>\n",
       "      <td>2</td>\n",
       "      <td>...</td>\n",
       "      <td>9</td>\n",
       "      <td>1</td>\n",
       "      <td>2</td>\n",
       "      <td>3</td>\n",
       "      <td>2</td>\n",
       "      <td>1</td>\n",
       "      <td>1</td>\n",
       "      <td>1</td>\n",
       "      <td></td>\n",
       "      <td></td>\n",
       "    </tr>\n",
       "    <tr>\n",
       "      <th>4</th>\n",
       "      <td>100022</td>\n",
       "      <td>3.642857</td>\n",
       "      <td>1</td>\n",
       "      <td>81814</td>\n",
       "      <td>1</td>\n",
       "      <td>2</td>\n",
       "      <td>39</td>\n",
       "      <td>S</td>\n",
       "      <td>5</td>\n",
       "      <td>1</td>\n",
       "      <td>...</td>\n",
       "      <td>1</td>\n",
       "      <td></td>\n",
       "      <td>3</td>\n",
       "      <td>2</td>\n",
       "      <td>2</td>\n",
       "      <td>1</td>\n",
       "      <td>1</td>\n",
       "      <td>1</td>\n",
       "      <td></td>\n",
       "      <td></td>\n",
       "    </tr>\n",
       "  </tbody>\n",
       "</table>\n",
       "<p>5 rows × 100 columns</p>\n",
       "</div>"
      ],
      "text/plain": [
       "   caseid    weight  sample  int_date  lang  cregion  state usr  density  \\\n",
       "0  100003  3.285714       1     81514     1        3     37   U        3   \n",
       "1  100004  3.214286       1     81814     1        3     51   U        5   \n",
       "2  100014  1.857143       1     81514     1        1     36   U        5   \n",
       "3  100020  3.500000       1     81914     1        1      9   S        4   \n",
       "4  100022  3.642857       1     81814     1        2     39   S        5   \n",
       "\n",
       "   form ...   party  partyln  ideo  hh1  hh3  eminuse intmob ql1  ql1a  qc1  \n",
       "0     2 ...       3        1     2    9    9        1      1   1             \n",
       "1     1 ...       2              5    5    2        1      1   1             \n",
       "2     1 ...       1              2    1             1      2   1             \n",
       "3     2 ...       9        1     2    3    2        1      1   1             \n",
       "4     1 ...       1              3    2    2        1      1   1             \n",
       "\n",
       "[5 rows x 100 columns]"
      ]
     },
     "execution_count": 2,
     "metadata": {},
     "output_type": "execute_result"
    }
   ],
   "source": [
    "df = pd.read_csv(\"Dataset - 2014 Pew Research Center Science Survey (SPSS).csv\")\n",
    "df.head()"
   ]
  },
  {
   "cell_type": "code",
   "execution_count": 3,
   "metadata": {
    "collapsed": true
   },
   "outputs": [],
   "source": [
    "document = Document('Codebook - 2014 Pew Research Center Science Survey.docx')"
   ]
  },
  {
   "cell_type": "code",
   "execution_count": 4,
   "metadata": {
    "collapsed": true
   },
   "outputs": [],
   "source": [
    "p_list = []\n",
    "for p in document.paragraphs:\n",
    "    p_list.append(p.text)"
   ]
  },
  {
   "cell_type": "code",
   "execution_count": 5,
   "metadata": {},
   "outputs": [
    {
     "data": {
      "text/plain": [
       "[('Q1',\n",
       "  'All in all, are you satisfied or dissatisfied with the way things are going in this country today?'),\n",
       " ('Q2',\n",
       "  'We’d like you to compare the United States to other industrialized countries in a few different areas. (First,) what about... [INSERT ITEM; READ AND RANDOMIZE]? [READ FOR FIRST ITEM, THEN AS NECESSARY: Do you think the U.S. is the BEST IN THE WORLD, above average, average or below average in [ITEM] compared to other industrialized countries?] a. Its scientific achievements b. Its military c. Its economy e. Science, technology, engineering and math education for grades K to 12'),\n",
       " ('Q3',\n",
       "  'How much do you ENJOY keeping up with news about science – a lot, some, not much, or not at all?'),\n",
       " ('Q4',\n",
       "  'Overall, has science made life easier or more difficult for most people?'),\n",
       " ('Q5',\n",
       "  'Has science had a mostly positive or mostly negative effect on the quality of [INSERT ITEM; RANDOMIZE] in the U.S.? What about [NEXT ITEM]? [IF NECESSARY: Has science had a mostly positive or mostly negative effect on the quality of [ITEM] in the U.S.?] a. Food b. Health care c. The environment')]"
      ]
     },
     "execution_count": 5,
     "metadata": {},
     "output_type": "execute_result"
    }
   ],
   "source": [
    "# Clean the data, accounting for subquestions within question.\n",
    "question_tuples = []\n",
    "q_subparts = []\n",
    "for i in range(len(p_list)):\n",
    "    Q_num = re.findall('(Q[0-9]+[A-Z]*[f1]*[F1]*[_]*[code]*[0-9]*)', p_list[i])\n",
    "    if Q_num:\n",
    "        question = p_list[i].strip(Q_num[0])\n",
    "        question = question.strip()\n",
    "        # If there is a subquestion (upon manual inspection, these all have\n",
    "        # [] in them), find the subquestion information.\n",
    "        if \"[\" in question or \"[\" in p_list[i+1]:\n",
    "            a_cat = False\n",
    "            for j in range(1,7):\n",
    "                Q_subpart = re.findall('([a-f]\\.)(.*)', p_list[i+j])\n",
    "                if Q_subpart:\n",
    "                    for part in Q_subpart[0]:\n",
    "                        part = part.strip()\n",
    "                        question = question + str(\" \" + part)\n",
    "                    a_cat = True\n",
    "                if not a_cat:\n",
    "                    Q_subpart2 = re.findall('(^[\\\\t]*\\d)(.*)', p_list[i+j])\n",
    "                    if Q_subpart2:\n",
    "                        for part in Q_subpart2[0]:\n",
    "                            part = part.strip()\n",
    "                            question = question + str(\" \" + part) \n",
    "        atuple = (Q_num[0], question)\n",
    "        question_tuples.append(atuple)\n",
    "    Q_know = re.findall('(KNOSCT[0-9]+)', p_list[i])\n",
    "    if Q_know:\n",
    "        question = p_list[i].strip(Q_know[0])\n",
    "        qustion = question.strip()\n",
    "        atuple = (Q_know[0], question)\n",
    "        question_tuples.append(atuple)\n",
    "question_tuples[:5]"
   ]
  },
  {
   "cell_type": "code",
   "execution_count": 6,
   "metadata": {
    "collapsed": true
   },
   "outputs": [],
   "source": [
    "def to_csv(tuple_list, name):\n",
    "    '''\n",
    "    Given a name and tuple_list, convert the data to a csv of cleaned data.\n",
    "    Also used in CCS notebook.\n",
    "    Inputs:\n",
    "        - tuple_list: a list of (var_name, var_text) tuples\n",
    "        - name: the survey name\n",
    "    Output:\n",
    "        - None, creates csv.\n",
    "    '''\n",
    "    cleaned_data = pd.DataFrame()\n",
    "    for tup in question_tuples:\n",
    "        var_name = tup[0]\n",
    "        question = tup[1]\n",
    "        cleaned_data = cleaned_data.append([[var_name, question]], ignore_index=True)\n",
    "    cleaned_data.columns = [\"Var_Name\", \"Var_Text\"]\n",
    "    cleaned_data.to_csv(path_or_buf=name + \".csv\", index=False)"
   ]
  },
  {
   "cell_type": "code",
   "execution_count": 7,
   "metadata": {
    "collapsed": true
   },
   "outputs": [],
   "source": [
    "to_csv(question_tuples, \"PewScience_cleaned\")"
   ]
  },
  {
   "cell_type": "markdown",
   "metadata": {},
   "source": [
    "## Part 2: Create Survey Detail Description"
   ]
  },
  {
   "cell_type": "code",
   "execution_count": 8,
   "metadata": {
    "collapsed": true
   },
   "outputs": [],
   "source": [
    "# Create a function to create a dictionary from a list of variables. This is used in other \n",
    "# notebooks to create the detail csv.\n",
    "def create_d(survey_num, survey_name, num_part, org_conduct, num_questions, data_link, \n",
    "             doc_link, source_link, summary):\n",
    "    '''\n",
    "    Given information for a dictionary, make the detail dictionary.\n",
    "    Inputs:\n",
    "        - survey_num: A number for the survey (int)\n",
    "        - survey_name: Name of survey (string)\n",
    "        - num_part: Number of participants in the survey (int)\n",
    "        - org_conduct: Name of organization (string)\n",
    "        - num_questions: Number of questions in the survey (int)\n",
    "        - data_link: Link to data (string)\n",
    "        - doc_link: Link to documentation (string)\n",
    "        - source_link: Link to source (string)\n",
    "        - summary: Summary of survey (string)\n",
    "    Output:\n",
    "        - python dictionary that stores the values.\n",
    "    '''\n",
    "    d = {\"Survey_Number\": [survey_num],\n",
    "         \"Survey_Name\": [survey_name], \n",
    "         \"Num_Participants\": [num_part],\n",
    "         \"Org_Conduct\": [org_conduct], \n",
    "         \"Num_Questions\": [num_questions],\n",
    "         \"Data_Link\": [data_link],\n",
    "         \"Documentation_Link\": [doc_link],\n",
    "         \"Source_Link\": [source_link],\n",
    "         \"Summary\": [summary]}\n",
    "    return d"
   ]
  },
  {
   "cell_type": "code",
   "execution_count": 9,
   "metadata": {
    "collapsed": true
   },
   "outputs": [],
   "source": [
    "# Create a function to create a csv given a dictionaries. This is used in other \n",
    "# notebooks to create the detail csv.\n",
    "def create_detail_csv(d, name):\n",
    "    '''\n",
    "    Given a dictionary (created above) and a survey name, create an unindexed csv \n",
    "    with those details.\n",
    "    Inputs:\n",
    "        - d: a python dictionary\n",
    "        - name: name of the survey (string)\n",
    "    Output:\n",
    "        - None, but creates a csv.\n",
    "    '''\n",
    "    detail = pd.DataFrame(data=d, columns = [\"Survey_Number\", \"Survey_Name\", \"Num_Participants\",\n",
    "                            \"Org_Conduct\", \"Num_Questions\", \"Data_Link\", \"Documentation_Link\",\n",
    "                            \"Source_Link\", \"Summary\"])\n",
    "    detail.to_csv(path_or_buf=name + \"_detail.csv\", index=False)"
   ]
  },
  {
   "cell_type": "code",
   "execution_count": 10,
   "metadata": {
    "collapsed": true
   },
   "outputs": [],
   "source": [
    "survey_num = 4\n",
    "survey_name = \"Pew Research Center 2014 GP Survey on Science\"\n",
    "num_part = 2002\n",
    "org_conduct = \"Pew Research\"\n",
    "num_questions = len(question_tuples)\n",
    "data_link = \"http://bit.ly/2FbEzIP\"\n",
    "doc_link = \"http://bit.ly/2t7EVM6\"\n",
    "source_link = \"http://pewrsr.ch/2owjlvS\"\n",
    "summary = \"A 2014 survey that included a number of open-ended questions to gauge \\\n",
    "    what respondents had in mind when thinking about the positive and negative effects \\\n",
    "    of science on society.\""
   ]
  },
  {
   "cell_type": "code",
   "execution_count": 11,
   "metadata": {
    "collapsed": true
   },
   "outputs": [],
   "source": [
    "d = create_d(survey_num, survey_name, num_part, org_conduct, num_questions, data_link, \n",
    "             doc_link, source_link, summary)"
   ]
  },
  {
   "cell_type": "code",
   "execution_count": 12,
   "metadata": {
    "collapsed": true
   },
   "outputs": [],
   "source": [
    "create_detail_csv(d, \"PewScience\")"
   ]
  }
 ],
 "metadata": {
  "kernelspec": {
   "display_name": "Python 3",
   "language": "python",
   "name": "python3"
  },
  "language_info": {
   "codemirror_mode": {
    "name": "ipython",
    "version": 3
   },
   "file_extension": ".py",
   "mimetype": "text/x-python",
   "name": "python",
   "nbconvert_exporter": "python",
   "pygments_lexer": "ipython3",
   "version": "3.6.3"
  }
 },
 "nbformat": 4,
 "nbformat_minor": 2
}
